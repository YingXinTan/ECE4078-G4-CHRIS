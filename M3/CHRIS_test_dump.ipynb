{
 "cells": [
  {
   "cell_type": "code",
   "execution_count": 1,
   "metadata": {},
   "outputs": [],
   "source": [
    "import ast\n",
    "import numpy as np\n",
    "import json"
   ]
  },
  {
   "cell_type": "code",
   "execution_count": 2,
   "metadata": {},
   "outputs": [],
   "source": [
    "def get_dict_from_txt(cur_fname):\n",
    "    with open(cur_fname, 'r') as f:\n",
    "        try:\n",
    "            gt_dict = json.load(f)                   \n",
    "        except ValueError as e:\n",
    "            with open(cur_fname, 'r') as f:\n",
    "                gt_dict = ast.literal_eval(f.readline()) # read from file and store it as dictionary\n",
    "\n",
    "    return gt_dict"
   ]
  },
  {
   "cell_type": "code",
   "execution_count": 3,
   "metadata": {},
   "outputs": [
    {
     "name": "stdout",
     "output_type": "stream",
     "text": [
      "aruco_dict :\n",
      " {'aruco1_0': {'x': -1.1821487851416936, 'y': 0.04996221332728812}, 'aruco2_0': {'x': -0.8644535180175356, 'y': 0.8830492474371529}, 'aruco3_0': {'x': -0.04326353193058985, 'y': 1.2597470412096334}, 'aruco4_0': {'x': 0.3562876760090406, 'y': 0.810914451659631}, 'aruco5_0': {'x': 1.2181435628536548, 'y': 1.207873289955094}, 'aruco6_0': {'x': 1.1689732203331453, 'y': 0.0009065783069676092}, 'aruco7_0': {'x': 0.4211593242828235, 'y': -0.7938757820054194}, 'aruco8_0': {'x': 0.04321348125770391, 'y': -1.1758667097139708}, 'aruco9_0': {'x': -0.3761300398754358, 'y': -0.3503924743081139}, 'aruco10_0': {'x': -0.7816481284215404, 'y': -0.7867033378297084}}\n"
     ]
    }
   ],
   "source": [
    "aruco_est_map = 'EST_ARUCO.txt'\n",
    "aruco_dict = get_dict_from_txt(cur_fname=aruco_est_map) # read SLAM map from file and store it as dictionary\n",
    "print(\"aruco_dict :\\n\", aruco_dict)"
   ]
  },
  {
   "cell_type": "code",
   "execution_count": 10,
   "metadata": {},
   "outputs": [],
   "source": [
    "est_aruco_pos = [[], []] # creating an array of arrays wherevy row [0] is all x coordinaties and row [1] is all y coordinates\n",
    "for aruco_dict_keys in aruco_dict.keys():\n",
    "\n",
    "    est_aruco_pos[0].append(aruco_dict[aruco_dict_keys]['x'])\n",
    "    est_aruco_pos[1].append(aruco_dict[aruco_dict_keys]['y'])\n",
    "\n",
    "est_aruco_pos = np.asarray(est_aruco_pos)"
   ]
  }
 ],
 "metadata": {
  "kernelspec": {
   "display_name": "Python 3.10.6 ('xin_env')",
   "language": "python",
   "name": "python3"
  },
  "language_info": {
   "codemirror_mode": {
    "name": "ipython",
    "version": 3
   },
   "file_extension": ".py",
   "mimetype": "text/x-python",
   "name": "python",
   "nbconvert_exporter": "python",
   "pygments_lexer": "ipython3",
   "version": "3.10.6"
  },
  "orig_nbformat": 4,
  "vscode": {
   "interpreter": {
    "hash": "d7d8dbcee5154af7876b75b3c8227afb44a089508100b5661660adeb3be7501e"
   }
  }
 },
 "nbformat": 4,
 "nbformat_minor": 2
}
